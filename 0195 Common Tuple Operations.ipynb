{
 "cells": [
  {
   "attachments": {},
   "cell_type": "markdown",
   "metadata": {},
   "source": [
    "* Create a tuple\n",
    "* Check if the element exists in the tuple\n",
    "* Get list of supported functions on the tuple\n",
    "* Convert tuple to list\n",
    "* Convert list to tuple\n",
    "* Exercise 1: Get list of integers from a tuple.\n",
    "```python\n",
    "t = (1, 'Foo', 'Bar', 2, 1, 2, 3)\n",
    "```\n",
    "* Exercise 2: Get unique integers from a tuple. Use the above tuple.\n"
   ]
  },
  {
   "cell_type": "markdown",
   "metadata": {},
   "source": []
  }
 ],
 "metadata": {
  "kernelspec": {
   "display_name": "Python 3.x",
   "language": "python",
   "name": "python3"
  },
  "language_info": {
   "name": "python",
   "version": "3"
  },
  "orig_nbformat": 4,
  "vscode": {
   "interpreter": {
    "hash": "31f2aee4e71d21fbe5cf8b01ff0e069b9275f58929596ceb00d14d90e3e16cd6"
   }
  }
 },
 "nbformat": 4,
 "nbformat_minor": 2
}
